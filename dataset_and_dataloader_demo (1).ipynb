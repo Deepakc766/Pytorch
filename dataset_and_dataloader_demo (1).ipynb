{
  "nbformat": 4,
  "nbformat_minor": 0,
  "metadata": {
    "colab": {
      "provenance": []
    },
    "kernelspec": {
      "name": "python3",
      "display_name": "Python 3"
    },
    "language_info": {
      "name": "python"
    }
  },
  "cells": [
    {
      "cell_type": "code",
      "execution_count": 1,
      "metadata": {
        "id": "TgAOwS2a3Keb"
      },
      "outputs": [],
      "source": [
        "from sklearn.datasets import make_classification\n",
        "import torch"
      ]
    },
    {
      "cell_type": "code",
      "source": [
        "# Step 1: Create a synthetic classification dataset using sklearn\n",
        "X, y = make_classification(\n",
        "    n_samples=10,       # Number of samples\n",
        "    n_features=4,       # Number of features\n",
        "    n_informative=2,    # Number of informative features\n",
        "    n_redundant=2,      # Number of redundant features\n",
        "    n_classes=2,        # Number of classes\n",
        "    random_state=42     # For reproducibility\n",
        ")"
      ],
      "metadata": {
        "id": "aqEej4GC3UyT"
      },
      "execution_count": 5,
      "outputs": []
    },
    {
      "cell_type": "code",
      "source": [
        "X"
      ],
      "metadata": {
        "colab": {
          "base_uri": "https://localhost:8080/"
        },
        "id": "WywhcnAj3Yec",
        "outputId": "53b03fc7-7b0a-4f3d-f4fe-2180e916a589"
      },
      "execution_count": 6,
      "outputs": [
        {
          "output_type": "execute_result",
          "data": {
            "text/plain": [
              "array([[-0.92533575, -1.14021544, -0.83879234,  1.69585767],\n",
              "       [-0.46171143, -0.58723065, -1.97171753,  2.03731034],\n",
              "       [ 1.44044386,  1.77736657,  1.51157598, -2.79776041],\n",
              "       [ 1.54711661,  1.89969252,  0.83444483, -2.39981377],\n",
              "       [ 0.88394335,  1.06833894, -0.97007347, -0.26156038],\n",
              "       [ 1.42544359,  1.72725924, -1.18582677, -0.71206911],\n",
              "       [-0.58067464, -0.72063436, -0.96059253,  1.39720576],\n",
              "       [-0.76281464, -0.9382051 , -0.54304815,  1.284181  ],\n",
              "       [-1.59731763, -1.96287438, -0.99225135,  2.57793983],\n",
              "       [-2.38935955, -2.8953973 ,  1.97686236,  1.20190367]])"
            ]
          },
          "metadata": {},
          "execution_count": 6
        }
      ]
    },
    {
      "cell_type": "code",
      "source": [
        "X.shape"
      ],
      "metadata": {
        "colab": {
          "base_uri": "https://localhost:8080/"
        },
        "id": "eBb4gaS_3cYe",
        "outputId": "c6eb5674-cc96-4565-d4d6-954a8cbd1497"
      },
      "execution_count": 7,
      "outputs": [
        {
          "output_type": "execute_result",
          "data": {
            "text/plain": [
              "(10, 4)"
            ]
          },
          "metadata": {},
          "execution_count": 7
        }
      ]
    },
    {
      "cell_type": "code",
      "source": [
        "y"
      ],
      "metadata": {
        "colab": {
          "base_uri": "https://localhost:8080/"
        },
        "id": "KAAejfi23fkA",
        "outputId": "0347003c-2ec6-474f-8fee-c4d03f25187b"
      },
      "execution_count": 8,
      "outputs": [
        {
          "output_type": "execute_result",
          "data": {
            "text/plain": [
              "array([0, 0, 1, 1, 1, 1, 0, 1, 0, 0])"
            ]
          },
          "metadata": {},
          "execution_count": 8
        }
      ]
    },
    {
      "cell_type": "code",
      "source": [
        "y.shape"
      ],
      "metadata": {
        "colab": {
          "base_uri": "https://localhost:8080/"
        },
        "id": "tZI0UX7R3f4H",
        "outputId": "e687d50a-b348-4da7-f09e-68e45da1318d"
      },
      "execution_count": 9,
      "outputs": [
        {
          "output_type": "execute_result",
          "data": {
            "text/plain": [
              "(10,)"
            ]
          },
          "metadata": {},
          "execution_count": 9
        }
      ]
    },
    {
      "cell_type": "code",
      "source": [
        "# Convert the data to PyTorch tensors\n",
        "X = torch.tensor(X, dtype=torch.float32)\n",
        "y = torch.tensor(y, dtype=torch.long)"
      ],
      "metadata": {
        "id": "hm8_V0OQ3hby"
      },
      "execution_count": 10,
      "outputs": []
    },
    {
      "cell_type": "code",
      "source": [
        "print(X.type)\n",
        "X"
      ],
      "metadata": {
        "colab": {
          "base_uri": "https://localhost:8080/"
        },
        "id": "R8b5_oEF8ejn",
        "outputId": "70055a86-be0d-4724-9584-ac3d0738e28f"
      },
      "execution_count": 14,
      "outputs": [
        {
          "output_type": "stream",
          "name": "stdout",
          "text": [
            "<built-in method type of Tensor object at 0x784d4651d900>\n"
          ]
        },
        {
          "output_type": "execute_result",
          "data": {
            "text/plain": [
              "tensor([[-0.9253, -1.1402, -0.8388,  1.6959],\n",
              "        [-0.4617, -0.5872, -1.9717,  2.0373],\n",
              "        [ 1.4404,  1.7774,  1.5116, -2.7978],\n",
              "        [ 1.5471,  1.8997,  0.8344, -2.3998],\n",
              "        [ 0.8839,  1.0683, -0.9701, -0.2616],\n",
              "        [ 1.4254,  1.7273, -1.1858, -0.7121],\n",
              "        [-0.5807, -0.7206, -0.9606,  1.3972],\n",
              "        [-0.7628, -0.9382, -0.5430,  1.2842],\n",
              "        [-1.5973, -1.9629, -0.9923,  2.5779],\n",
              "        [-2.3894, -2.8954,  1.9769,  1.2019]])"
            ]
          },
          "metadata": {},
          "execution_count": 14
        }
      ]
    },
    {
      "cell_type": "code",
      "source": [
        "y"
      ],
      "metadata": {
        "colab": {
          "base_uri": "https://localhost:8080/"
        },
        "id": "Pkxag9k-8gQh",
        "outputId": "787be5bf-17ee-4a51-b9f4-d18a847ed144"
      },
      "execution_count": 15,
      "outputs": [
        {
          "output_type": "execute_result",
          "data": {
            "text/plain": [
              "tensor([0, 0, 1, 1, 1, 1, 0, 1, 0, 0])"
            ]
          },
          "metadata": {},
          "execution_count": 15
        }
      ]
    },
    {
      "cell_type": "code",
      "source": [
        "from torch.utils.data import Dataset,DataLoader"
      ],
      "metadata": {
        "id": "7nm0KeiA3lxj"
      },
      "execution_count": 18,
      "outputs": []
    },
    {
      "cell_type": "code",
      "source": [
        "class CustomDataset(Dataset):\n",
        "  def __init__(self,X,Y):\n",
        "    self.x=X\n",
        "    self.y=Y\n",
        "    # self.num_worker=num_worker\n",
        "\n",
        "  def __len__(self):\n",
        "    return len(self.x)\n",
        "  def __getitem__(self,indx):\n",
        "    #you can apply any transformation you want on any kin of datasets like for textual it like\n",
        "    return self.x[indx],self.y[indx]\n",
        "\n"
      ],
      "metadata": {
        "id": "_WdH2NCq4zLD"
      },
      "execution_count": 31,
      "outputs": []
    },
    {
      "cell_type": "code",
      "source": [
        "dataset=CustomDataset(X,y)"
      ],
      "metadata": {
        "id": "mbEXolf88_zV"
      },
      "execution_count": 32,
      "outputs": []
    },
    {
      "cell_type": "code",
      "source": [
        "len(dataset)"
      ],
      "metadata": {
        "colab": {
          "base_uri": "https://localhost:8080/"
        },
        "id": "yCMLR4fH9Fvo",
        "outputId": "1e085226-ee77-49c3-8ed0-de16655d58fe"
      },
      "execution_count": 33,
      "outputs": [
        {
          "output_type": "execute_result",
          "data": {
            "text/plain": [
              "10"
            ]
          },
          "metadata": {},
          "execution_count": 33
        }
      ]
    },
    {
      "cell_type": "code",
      "source": [
        "dataset[2]"
      ],
      "metadata": {
        "colab": {
          "base_uri": "https://localhost:8080/"
        },
        "id": "lUpEROQr9NXs",
        "outputId": "1ef03725-f79c-4924-f211-dda377222ac2"
      },
      "execution_count": 34,
      "outputs": [
        {
          "output_type": "execute_result",
          "data": {
            "text/plain": [
              "(tensor([ 1.4404,  1.7774,  1.5116, -2.7978]), tensor(1))"
            ]
          },
          "metadata": {},
          "execution_count": 34
        }
      ]
    },
    {
      "cell_type": "code",
      "source": [
        "dataloader=DataLoader(dataset,batch_size=2,shuffle=True,num_workers=4)"
      ],
      "metadata": {
        "id": "0v4w5dki9QDu",
        "colab": {
          "base_uri": "https://localhost:8080/"
        },
        "outputId": "cfe08673-c30b-4803-96f4-723fe139140c"
      },
      "execution_count": 35,
      "outputs": [
        {
          "output_type": "stream",
          "name": "stderr",
          "text": [
            "/usr/local/lib/python3.12/dist-packages/torch/utils/data/dataloader.py:627: UserWarning: This DataLoader will create 4 worker processes in total. Our suggested max number of worker in current system is 2, which is smaller than what this DataLoader is going to create. Please be aware that excessive worker creation might get DataLoader running slow or even freeze, lower the worker number to avoid potential slowness/freeze if necessary.\n",
            "  warnings.warn(\n"
          ]
        }
      ]
    },
    {
      "cell_type": "code",
      "source": [
        "for batch_features,batch_labels in dataloader:\n",
        "  print(batch_features)\n",
        "  print(batch_labels)\n",
        "  print(\"_\"*50)\n"
      ],
      "metadata": {
        "colab": {
          "base_uri": "https://localhost:8080/"
        },
        "id": "1AE9Ji0l9gVB",
        "outputId": "be5b86d5-1627-427c-a876-912aad01add6"
      },
      "execution_count": 39,
      "outputs": [
        {
          "output_type": "stream",
          "name": "stdout",
          "text": [
            "tensor([[-2.3894, -2.8954,  1.9769,  1.2019],\n",
            "        [ 1.4254,  1.7273, -1.1858, -0.7121]])\n",
            "tensor([0, 1])\n",
            "__________________________________________________\n",
            "tensor([[-0.4617, -0.5872, -1.9717,  2.0373],\n",
            "        [-1.5973, -1.9629, -0.9923,  2.5779]])\n",
            "tensor([0, 0])\n",
            "__________________________________________________\n",
            "tensor([[ 1.4404,  1.7774,  1.5116, -2.7978],\n",
            "        [ 0.8839,  1.0683, -0.9701, -0.2616]])\n",
            "tensor([1, 1])\n",
            "__________________________________________________\n",
            "tensor([[-0.7628, -0.9382, -0.5430,  1.2842],\n",
            "        [ 1.5471,  1.8997,  0.8344, -2.3998]])\n",
            "tensor([1, 1])\n",
            "__________________________________________________\n",
            "tensor([[-0.9253, -1.1402, -0.8388,  1.6959],\n",
            "        [-0.5807, -0.7206, -0.9606,  1.3972]])\n",
            "tensor([0, 0])\n",
            "__________________________________________________\n"
          ]
        }
      ]
    },
    {
      "cell_type": "code",
      "source": [],
      "metadata": {
        "id": "Zj4MdNzp9riC"
      },
      "execution_count": null,
      "outputs": []
    }
  ]
}